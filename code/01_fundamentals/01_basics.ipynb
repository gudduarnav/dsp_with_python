{
 "cells": [
  {
   "cell_type": "markdown",
   "id": "30203470-b4bd-495f-b51f-96627135a1c9",
   "metadata": {},
   "source": [
    "# Basics of Digital Signal Processing (DSP)"
   ]
  },
  {
   "cell_type": "code",
   "execution_count": null,
   "id": "f959b9bf-dc22-458e-9b94-755ffb677bf7",
   "metadata": {},
   "outputs": [],
   "source": []
  }
 ],
 "metadata": {
  "kernelspec": {
   "display_name": "Python 3 (ipykernel)",
   "language": "python",
   "name": "python3"
  },
  "language_info": {
   "codemirror_mode": {
    "name": "ipython",
    "version": 3
   },
   "file_extension": ".py",
   "mimetype": "text/x-python",
   "name": "python",
   "nbconvert_exporter": "python",
   "pygments_lexer": "ipython3",
   "version": "3.10.8"
  }
 },
 "nbformat": 4,
 "nbformat_minor": 5
}
